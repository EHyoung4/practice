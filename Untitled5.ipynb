{
  "nbformat": 4,
  "nbformat_minor": 0,
  "metadata": {
    "colab": {
      "name": "Untitled5.ipynb",
      "provenance": [],
      "authorship_tag": "ABX9TyNEf8onkCeEiwzJb0WvctXV",
      "include_colab_link": true
    },
    "kernelspec": {
      "name": "python3",
      "display_name": "Python 3"
    },
    "language_info": {
      "name": "python"
    }
  },
  "cells": [
    {
      "cell_type": "markdown",
      "metadata": {
        "id": "view-in-github",
        "colab_type": "text"
      },
      "source": [
        "<a href=\"https://colab.research.google.com/github/EHyoung4/practice/blob/master/Untitled5.ipynb\" target=\"_parent\"><img src=\"https://colab.research.google.com/assets/colab-badge.svg\" alt=\"Open In Colab\"/></a>"
      ]
    },
    {
      "cell_type": "code",
      "metadata": {
        "id": "FhCgHakPp3kp"
      },
      "source": [
        "4import numpy as np #python의 행렬연산 라이브러리 사용\n",
        "%matplotlib inline #%matplotlib는 collab의 수학그래프라이브러리, inline 는 웹페이지 셀에 띄우는것\n",
        "\n",
        "import matplotlib \n",
        "import matplotlib.pyplot as plt \n"
      ],
      "execution_count": 3,
      "outputs": []
    },
    {
      "cell_type": "code",
      "metadata": {
        "colab": {
          "base_uri": "https://localhost:8080/"
        },
        "id": "aqxIz0Siq1GN",
        "outputId": "52ba6844-caf6-46ec-eade-cb8870e00774"
      },
      "source": [
        "X = 2*np.random.rand(100, 1) #훈련데이터 - 0부터 1까지의 값\n",
        "y = 4+3*X +np.random.randn(100, 1) #rand값은 noise값\n",
        "print(X.shape)\n",
        "print(y.shape)"
      ],
      "execution_count": 4,
      "outputs": [
        {
          "output_type": "stream",
          "text": [
            "(100, 1)\n",
            "(100, 1)\n"
          ],
          "name": "stdout"
        }
      ]
    }
  ]
}